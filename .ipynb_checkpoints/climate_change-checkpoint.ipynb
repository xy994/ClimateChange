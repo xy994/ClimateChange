{
 "cells": [
  {
   "cell_type": "markdown",
   "metadata": {},
   "source": [
    "# Climate Change\n",
    "\n",
    "### FNCE 3436\n",
    "\n",
    "### Case Study / Term Project"
   ]
  },
  {
   "cell_type": "markdown",
   "metadata": {},
   "source": [
    "# Background\n",
    "\n",
    "Is climate change real or fake?  We'll look at North American meteorological data compiled by SCU's own [Prof Maurer](http://www.engr.scu.edu/~emaurer/gridded_obs/index_gridded_obs.html).  The website contains **daily** and **monthly** data at ~60,000  equally spaced measurement locations across the continental United States, Mexico, and part of Canada.\n",
    "\n",
    "The **monthly** data contains ~45 million lines of data...  Too many to fit in memory or to fit in a pandas dataframe.  You will need strong database, coding skills, and data-science skills to manipulate and analyze this dataset.  You'll have two deliverables for this project:\n",
    "\n",
    "    (i) a preliminary analysis, and  \n",
    "    (ii) a term paper / analysis"
   ]
  },
  {
   "cell_type": "markdown",
   "metadata": {},
   "source": [
    "![temp](./img/ldas_allbas.gif)"
   ]
  },
  {
   "cell_type": "markdown",
   "metadata": {},
   "source": [
    "### Preliminary Analysis -- Due September 30, 2019"
   ]
  },
  {
   "cell_type": "markdown",
   "metadata": {},
   "source": [
    "**Q1** Form a team of 3 or 4 students.  Work with new teammates -- i.e. people you have not worked with so far while at Santa Clara.  Think of this as a final opportunity to make friends. If you have trouble meeting new people, come see me -- I'll help.\n",
    "\n",
    "**Q2** Download the **monthly** temperature data files from the website and place the data into an **sqlite** database on your machine.  The team with the best schema will get the privilege of creating the table in **postgres** on the sanjose server for all of us to use.\n",
    "\n",
    "**Q3** This dataset contains **min_temp**, **max_temp**, **precipitation**, and **windspeed** for each measurement location.  Data is available from 1949 to 2010 -- 744 observations per location.  What questions do you have about the data?  If you had to model using one of these metrics (or a composite) to assess global warming effects, which metric(s) would you use and why?  \n",
    "\n",
    "**Q4** Build a simple visualization script to look at the data and be ready to share it with the class. How would you visualize national level data over time.  Come up with quick ways to look at the data and describe what else you would do if you had more time."
   ]
  },
  {
   "cell_type": "markdown",
   "metadata": {},
   "source": [
    "### Term Project -- Due December 2, 2019"
   ]
  },
  {
   "cell_type": "markdown",
   "metadata": {},
   "source": [
    "**Q1:** Show your \"best\" visualization(s) -- what effects are revealed through this view of the data?\n",
    "\n",
    "**Q2:** Is North America warming up in a statistically meaningful way?  Using the monthly data to show if there is evidence of increasing temperatures?  Show a summary for:\n",
    "\n",
    "    (i) A small set of randomly chosen measurement locations (max 10 or so)?  \n",
    "    (ii) What about individual regions?  \n",
    "    (ii) Nationally?\n",
    "\n",
    "**Q3** Are Other Effects meaningful in assessing temperature trends?  Do other factors impact the analysis?  Find open datasets and combine them with this data to produce more insights:  \n",
    "\n",
    "     (i) What about topography/elevation?  \n",
    "     (ii) Proximity to the coast, rivers or lakes?  \n",
    "     (iii) Level of aridity / precipitation?  \n",
    "     (iv) Urban vs. rural setting?  \n",
    "     (v) Surprise us.  What other insight can you produce?  \n",
    "\n",
    "**Q4** What about volatility?  Are meteorological effects becoming more volatile?  Support your conclusions.\n",
    "\n",
    "**Q5** Produce forecasts of **temperature** and **volatility** from 2010 to 2020.  Split your existing data into a training and evaluation set, compare in and out of sample behavior for at least **3 different methodologies**.\n",
    "\n",
    "**Q6** What do you recommend as next steps in this analysis?  What policy recommendations do you recommend?"
   ]
  },
  {
   "cell_type": "markdown",
   "metadata": {},
   "source": [
    "# Grading Criteria"
   ]
  },
  {
   "cell_type": "markdown",
   "metadata": {},
   "source": [
    "You will be graded on a combination of:\n",
    "\n",
    "points | criteria\n",
    "---|---\n",
    " 5 | preliminary analysis including database / visualization\n",
    " 15 | a jupyter notebook in .html format with your analysis (keep it concise and clear)\n",
    " 10 | a high quality slide deck summarizing the results of your analysis\n",
    " 10 | the quality of your presentation \n",
    " **40** | **Total**\n",
    "\n",
    "\n",
    "A panel of judges will listen to your presentations.  You should print 4 copies of your report and slide deck for the judges to take notes."
   ]
  },
  {
   "cell_type": "code",
   "execution_count": null,
   "metadata": {},
   "outputs": [],
   "source": []
  }
 ],
 "metadata": {
  "kernelspec": {
   "display_name": "Python 3",
   "language": "python",
   "name": "python3"
  },
  "language_info": {
   "codemirror_mode": {
    "name": "ipython",
    "version": 3
   },
   "file_extension": ".py",
   "mimetype": "text/x-python",
   "name": "python",
   "nbconvert_exporter": "python",
   "pygments_lexer": "ipython3",
   "version": "3.7.4"
  }
 },
 "nbformat": 4,
 "nbformat_minor": 2
}
